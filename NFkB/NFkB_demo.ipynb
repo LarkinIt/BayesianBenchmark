{
 "cells": [
  {
   "cell_type": "code",
   "execution_count": 1,
   "metadata": {},
   "outputs": [
    {
     "name": "stdout",
     "output_type": "stream",
     "text": [
      "This machine has 10 CPUs\n"
     ]
    }
   ],
   "source": [
    "import sys \n",
    "sys.path.append(\"./pocomc/\")\n",
    "\n",
    "import os\n",
    "import time\n",
    "import pickle\n",
    "import roadrunner as rr\n",
    "import numpy as np\n",
    "import pandas as pd\n",
    "import seaborn as sns\n",
    "import matplotlib.pyplot as plt\n",
    "\n",
    "from scipy.stats import qmc\n",
    "from multiprocessing import Pool\n",
    "\n",
    "import pocomc as pc\n",
    "\n",
    "SEED = 1\n",
    "np.random.seed(seed=SEED)\n",
    "\n",
    "n_cpus = os.cpu_count() \n",
    "print('This machine has {} CPUs'.format(n_cpus))"
   ]
  },
  {
   "cell_type": "code",
   "execution_count": 2,
   "metadata": {},
   "outputs": [],
   "source": [
    "class Model:\n",
    "    def __init__(self, opts): #initial settings\n",
    "        for key in opts: #loops for all labels in the list 'key'\n",
    "            setattr(self, key, opts[key]) #creates a dictionary where 'key' are the list of labels & 'ops[key]' are the values\n",
    "        # Default model output to times and experimental observables\n",
    "        self.observables= list(self.data.columns)[1:]\n",
    "        self.defaultOutput= ['time'] + self.observables\n",
    "        self.n_params= len(self.params)\n",
    "        self.n_obs= len(self.observables)\n",
    "\n",
    "    def __call__(self, theta_new):\n",
    "        theta_new = theta_new\n",
    "        res = self.log_likelihood(theta_new)\n",
    "        return res\n",
    "    \n",
    "    def run(self, params=None, x0=None, times=None, output=None):\n",
    "        rr = self.rr\n",
    "        rr.reset()\n",
    "        rr.integrator.absolute_tolerance = 1e-12\n",
    "        rr.integrator.relative_tolerance = 1e-12\n",
    "        addZero=False\n",
    "\n",
    "        # Use timepoints of data as default times at which to get sim output\n",
    "        if params is None:\n",
    "            params= self.p_true  \n",
    "        if x0 is None:\n",
    "            x0= self.x0\n",
    "        if times is None:\n",
    "            times= list(self.data['time'].values)\n",
    "        # make sure zero is first time point\n",
    "        if (times[0]>0.0):\n",
    "            addZero= True\n",
    "            times= [0] + times\n",
    "\n",
    "        # Set default output are the column names of the data\n",
    "        if output is None:\n",
    "            output= self.defaultOutput\n",
    "       \n",
    "        # Set parameter values\n",
    "        for name, value in zip(self.params, params):\n",
    "            rr[name] = float(value)\n",
    "        #rr.reset() # force update of parameter expression (POSSIBLY NOT NEEDED)\n",
    "\n",
    "        # NOTE: If you want to vary the initial conditions, do this by defining a parameter in the model that sets the initial concentration of species and then include this parameter in your list of parameters to fit. \n",
    "\n",
    "        # Run trajectories\n",
    "        try:\n",
    "            traj = rr.simulate(times=times,selections=output)  \n",
    "        except:\n",
    "            # If integration fails return empty array\n",
    "            return([])\n",
    "\n",
    "        if (addZero):\n",
    "            # Return traj with zero timepoint removed\n",
    "            return(traj[1:,:])\n",
    "        else:\n",
    "            return(traj)\n",
    "        \n",
    "    def log_prior(self, theta_new): \n",
    "        bools = [(low <= i <= high) for i,low,high in zip(theta_new, self.lower_bnds, self.upper_bnds)] #if generated values are within bounds\n",
    "        all_in_range = np.all(bools) #if all values are true, then output is true\n",
    "        if all_in_range: \n",
    "            return 0.0 \n",
    "        return -np.inf #if even one parameter out of bounds, it's false, and returns -infinity\n",
    "\n",
    "    def log_likelihood(self, theta_new): #how good is this candidate parameter fitting my data (maximize it)\n",
    "        params = theta_new[:self.n_params] \n",
    "        if self.fit_x0: \n",
    "            x0 = theta_new[self.n_params:(self.n_params + len(self.x_0))] #sets x0 to 'theta_true' x0 values\n",
    "        else:\n",
    "            x0 = self.x0\n",
    "        y = self.run(params=params, x0=x0)[:,1:] #sets y to the y results of solving ODE\n",
    "        if (len(y)==0):\n",
    "            # return large (but not infinite value) if integration fails\n",
    "            return(-1e11)\n",
    "        if (np.any(np.isnan(y))):\n",
    "            return(-1e12)\n",
    "\n",
    "        if self.fit_sigma:\n",
    "            sigma = theta_new[-len(self.observables):] #observable index related to sigma\n",
    "        else:\n",
    "            sigma = [1] * len(self.observables) #makes all sigmas default to 1\n",
    "\n",
    "        obs = self.data.values[:,1:] #sets data\n",
    "\n",
    "        # Calculate likelihood\n",
    "        #term1 = 0 #-0.5 * np.log(2*np.pi*np.square(sigma))\n",
    "        #term2 = sum (y-obsnp.square(np.subtract(y, obs)) / (2*np.square(sigma))\n",
    "        #logLH = np.sum(term1 - term2)\n",
    "        ll= -sum(((y-obs)/(sigma))**2)# chi^2\n",
    "        return(ll[0])"
   ]
  },
  {
   "cell_type": "code",
   "execution_count": 3,
   "metadata": {},
   "outputs": [],
   "source": [
    "mod_opts = {} \n",
    "# load data for model\n",
    "mod_df = pd.read_csv('onePercNoise_NFkB_data.csv', header=0, delimiter=\",\") #reads in data file\n",
    "mod_opts['data'] = mod_df\n",
    "# Load in SBML model using libroadrunner\n",
    "sbml_file = \"myImplemt.xml\"\n",
    "mod_opts['rr'] = rr.RoadRunner(sbml_file)\n",
    "# mod_opts['params'] = [\"LOG_k_b\", \"LOG_k_f\", \"LOG_k_a\", \"LOG_k_4\", \"LOG_k_i1\", \"LOG_k_e1\", \"LOG_k_t2a\", \"LOG_k_t1a\", \"LOG_k_i2\", \"LOG_k_e2\", \"LOG_k_e2a\", \"LOG_c_4a\", \"LOG_c_5a\", \"LOG_c_1a\", \"LOG_k_a1a\", \"LOG_k_d1a\", \"LOG_c_3\", \"LOG_c_1\", \"LOG_k_ikk\", \"LOG_k_tnfr\", \"LOG_TNFRin\", \"LOG_IKKin\", \"LOG_boundc\"] # names of parameters in order from bngl file \n",
    "\n",
    "# trying to only do some params \n",
    "mod_opts['params'] = [\"LOG_k_b\", \"LOG_k_f\", \"LOG_k_a\", \"LOG_k_4\"] # names of parameters in order from bngl file \n",
    "\n",
    "# mod_opts[\"species\"] = [\"TNF\", \"TNFRi\", \"TNFRa\", \"IKKi\", \"IKKa\", \"cNFKB\", \"nNFKB\", \"cIkB\", \"nIkB\", \"cNFkB_IkB\", \"nNFkB_IkB\", \"A20\"] # names of observables in order from bngl file, also in smbl under \"dependent variables / observables\"\n",
    "mod_opts[\"species\"] = [\"S1\", \"S2\", \"S3\", \"S4\", \"S5\", \"S6\", \"S7\", \"S8\", \"S9\", \"S10\", \"S11\", \"S12\"]\n",
    "mod_opts['x0'] = [0,2.5258,0,4.7454,0,0,0,0,0,6.5546,0,0] # initial conditions (if given)\n",
    "\n",
    "# ! TO DO: we currently assume it fit_x0, then ALL species initial conditions are fit\n",
    "mod_opts['fit_x0'] = False # fit initial conditions?\n",
    "mod_opts['fit_sigma'] = False #fit sigma?\n",
    "mod_opts['p_true'] = [0.0352,-3.0688,-4.5164,-7.4173,-2.057,-5.9334,-8,-7.3178,-4.1089,-10.6289,-3.5859,-4.6363,-4.6,-3.2082,-7,-8,-20,-20,-20,-20,2.5258,4.7454,6.5546] #guess param values(in log)\n",
    "# mod_opts['lower_bnds'] = [-30,-30,-30,-30,-30,-30,-30,-30,-30,-30,-30,-30,-30,-30,-30,-30,-30,-30,-30,-30,-30,-30,-30] #lower bounds(in log)\n",
    "# mod_opts['upper_bnds'] = [10,10,10,10,10,10,10,10,10,10,10,10,10,10,10,10,10,10,10,10,10,10,10] #upper bounds(in log)\n",
    "mod_opts['lower_bnds'] = [-5,-5,-5,-10,-5,-10,-10,-10,-10,-20,-10,-10,-10,-10,-10,-10,-30,-30,-30,-30,-10,-10,-10] #lower bounds(in log)\n",
    "mod_opts['upper_bnds'] = [5,5,5,5,5,5,5,5,5,5,5,5,5,5,5,5,5,5,5,5,5,10,10] #upper bounds(in log)\n",
    "\n",
    "\n",
    "model = Model(mod_opts)"
   ]
  },
  {
   "cell_type": "code",
   "execution_count": 4,
   "metadata": {},
   "outputs": [],
   "source": [
    "# function to plot model fit \n",
    "def plot_fit(p):\n",
    "    # simulates model with parameters over specific time frame\n",
    "    ## traj has time and conentration \n",
    "    traj= model.run(params=p,times=np.linspace(0,300,101))\n",
    "    # plots experimental data \n",
    "    plt.plot(model.data['time'].values,model.data['nNFkB'].values,'go',label='data')\n",
    "    # plots model fit \n",
    "    plt.plot(traj[:,0],traj[:,1],'g-',label='fit')\n",
    "    # log likelihood to calc cost of the fit \n",
    "    cost= model.log_likelihood(p)\n",
    "    plt.title(f'Fit for $\\chi^2=${-cost:0.2e}')\n",
    "    _=plt.legend()"
   ]
  },
  {
   "cell_type": "code",
   "execution_count": 5,
   "metadata": {},
   "outputs": [
    {
     "name": "stdout",
     "output_type": "stream",
     "text": [
      "0.0\n"
     ]
    },
    {
     "data": {
      "text/plain": [
       "Text(0.5, 1.0, 'nNFkB Concentration')"
      ]
     },
     "execution_count": 5,
     "metadata": {},
     "output_type": "execute_result"
    },
    {
     "data": {
      "image/png": "[encoded data removed]",
      "text/plain": [
       "<Figure size 640x480 with 1 Axes>"
      ]
     },
     "metadata": {},
     "output_type": "display_data"
    }
   ],
   "source": [
    "# runs model with given set of parameters, this can be changed []\n",
    "# traj is array: rows are time, cols are concentraation\n",
    "traj= model.run(params=model.p_true,times=np.linspace(0,300,301))\n",
    "plt.plot(traj[:,0],traj[:,1]) # plots first observable (2nd col of traj) against time \n",
    "print(traj[0,1]) # prints initial condition of the first observable  \n",
    "plt.title(\"nNFkB Concentration\")"
   ]
  },
  {
   "cell_type": "code",
   "execution_count": 6,
   "metadata": {},
   "outputs": [
    {
     "data": {
      "text/plain": [
       "Text(0.5, 1.0, 'nNFkB Concentration')"
      ]
     },
     "execution_count": 6,
     "metadata": {},
     "output_type": "execute_result"
    },
    {
     "data": {
      "image/png": "[encoded data removed]",
      "text/plain": [
       "<Figure size 640x480 with 1 Axes>"
      ]
     },
     "metadata": {},
     "output_type": "display_data"
    }
   ],
   "source": [
    "traj= model.run(params=model.p_true,output=list(model.data.columns))\n",
    "plt.plot(model.data['time'].values,model.data['nNFkB'].values,'go',label='data')\n",
    "plt.plot(traj[:,0],traj[:,1],'g-',label='fit')\n",
    "_=plt.legend()\n",
    "plt.title(\"nNFkB Concentration\")"
   ]
  },
  {
   "cell_type": "code",
   "execution_count": 7,
   "metadata": {},
   "outputs": [
    {
     "name": "stdout",
     "output_type": "stream",
     "text": [
      "       message: Optimization terminated successfully.\n",
      "       success: True\n",
      "        status: 0\n",
      "           fun: 160896028.4122378\n",
      "             x: [ 1.430e-01 -1.940e+00 ...  6.025e+01  2.356e+00]\n",
      "           nit: 1832\n",
      "          nfev: 2741\n",
      " final_simplex: (array([[ 1.430e-01, -1.940e+00, ...,  6.025e+01,\n",
      "                         2.356e+00],\n",
      "                       [ 1.430e-01, -1.940e+00, ...,  6.025e+01,\n",
      "                         2.356e+00],\n",
      "                       ...,\n",
      "                       [ 1.430e-01, -1.940e+00, ...,  6.025e+01,\n",
      "                         2.356e+00],\n",
      "                       [ 1.430e-01, -1.940e+00, ...,  6.025e+01,\n",
      "                         2.356e+00]]), array([ 1.609e+08,  1.609e+08, ...,  1.609e+08,  1.609e+08]))\n"
     ]
    }
   ],
   "source": [
    "# use to find best param values (minimizes chi-square)\n",
    "from scipy.optimize import minimize, fsolve\n",
    "# \n",
    "chisq= lambda p: -model.log_likelihood(p)\n",
    "# x0 is guess for params \n",
    "bf = minimize(chisq, x0=[0.0352,-3.0688,-4.5164,-7.4173,-2.057,-5.9334,-8,-7.3178,-4.1089,-10.6289,-3.5859,-4.6363,-4.6,-3.2082,-7,-8,-20,-20,-20,-20,2.5258,4.7454,6.5546], method='nelder-mead',options={'maxiter':10000})\n",
    "print(bf)"
   ]
  },
  {
   "cell_type": "code",
   "execution_count": 8,
   "metadata": {},
   "outputs": [
    {
     "name": "stdout",
     "output_type": "stream",
     "text": [
      "Optimization result:\n",
      "       message: Optimization terminated successfully.\n",
      "       success: True\n",
      "        status: 0\n",
      "           fun: 160896028.4122378\n",
      "             x: [ 1.430e-01 -1.940e+00 ...  6.025e+01  2.356e+00]\n",
      "           nit: 1832\n",
      "          nfev: 2741\n",
      " final_simplex: (array([[ 1.430e-01, -1.940e+00, ...,  6.025e+01,\n",
      "                         2.356e+00],\n",
      "                       [ 1.430e-01, -1.940e+00, ...,  6.025e+01,\n",
      "                         2.356e+00],\n",
      "                       ...,\n",
      "                       [ 1.430e-01, -1.940e+00, ...,  6.025e+01,\n",
      "                         2.356e+00],\n",
      "                       [ 1.430e-01, -1.940e+00, ...,  6.025e+01,\n",
      "                         2.356e+00]]), array([ 1.609e+08,  1.609e+08, ...,  1.609e+08,  1.609e+08]))\n",
      "\n",
      "Best-fit parameters:\n",
      "[  0.14295781  -1.9401116   -4.5165086  -12.8371119   -0.5090429\n",
      "   8.92915342  -0.56020805   0.93463465   0.34938086 -10.36352019\n",
      "  -0.63237969  -3.93291707  -3.37212112  -2.71222438  -5.40171841\n",
      " -17.06267867 -19.07787608  29.05690477  -4.54469341 -22.04873364\n",
      "  -2.9567187   60.24636156   2.35613316]\n"
     ]
    }
   ],
   "source": [
    "\n",
    "# Define the chi-square function\n",
    "chisq = lambda p: -model.log_likelihood(p)\n",
    "\n",
    "# Initial guess for parameters\n",
    "x0 = [0.0352, -3.0688, -4.5164, -7.4173, -2.057, -5.9334, -8, -7.3178, -4.1089, -10.6289, -3.5859, -4.6363, -4.6, -3.2082, -7, -8, -20, -20, -20, -20, 2.5258, 4.7454, 6.5546]\n",
    "\n",
    "# Perform the minimization\n",
    "bf = minimize(chisq, x0=x0, method='nelder-mead', options={'maxiter': 10000})\n",
    "\n",
    "# Print the optimization result\n",
    "print(\"Optimization result:\")\n",
    "print(bf)\n",
    "\n",
    "# Access the best-fit parameters\n",
    "best_fit_params = bf.x\n",
    "print(\"\\nBest-fit parameters:\")\n",
    "print(best_fit_params)\n"
   ]
  },
  {
   "cell_type": "code",
   "execution_count": 9,
   "metadata": {},
   "outputs": [
    {
     "name": "stdout",
     "output_type": "stream",
     "text": [
      "Optimization result:\n",
      "       message: Optimization terminated successfully.\n",
      "       success: True\n",
      "        status: 0\n",
      "           fun: 160896028.4122378\n",
      "             x: [ 1.430e-01 -1.940e+00 ...  6.025e+01  2.356e+00]\n",
      "           nit: 1832\n",
      "          nfev: 2741\n",
      " final_simplex: (array([[ 1.430e-01, -1.940e+00, ...,  6.025e+01,\n",
      "                         2.356e+00],\n",
      "                       [ 1.430e-01, -1.940e+00, ...,  6.025e+01,\n",
      "                         2.356e+00],\n",
      "                       ...,\n",
      "                       [ 1.430e-01, -1.940e+00, ...,  6.025e+01,\n",
      "                         2.356e+00],\n",
      "                       [ 1.430e-01, -1.940e+00, ...,  6.025e+01,\n",
      "                         2.356e+00]]), array([ 1.609e+08,  1.609e+08, ...,  1.609e+08,  1.609e+08]))\n",
      "\n",
      "Best-fit parameters:\n",
      "LOG_k_b: 0.1429578122972105\n",
      "LOG_k_f: -1.940111602406933\n",
      "LOG_k_a: -4.516508601591046\n",
      "LOG_k_4: -12.837111896356266\n",
      "LOG_k_i1: -0.5090429026743233\n",
      "LOG_k_e1: 8.929153421861947\n",
      "LOG_k_t2a: -0.5602080477612392\n",
      "LOG_k_t1a: 0.9346346494841771\n",
      "LOG_k_i2: 0.34938086250250755\n",
      "LOG_k_e2: -10.363520185828046\n",
      "LOG_k_e2a: -0.6323796872992627\n",
      "LOG_c_4a: -3.9329170749823725\n",
      "LOG_c_5a: -3.3721211238962594\n",
      "LOG_c_1a: -2.71222437772889\n",
      "LOG_k_a1a: -5.401718414201589\n",
      "LOG_k_d1a: -17.06267867064654\n",
      "LOG_c_3: -19.077876082502684\n",
      "LOG_c_1: 29.056904773439964\n",
      "LOG_k_ikk: -4.544693411134889\n",
      "LOG_k_tnfr: -22.0487336422319\n",
      "LOG_TNFRin: -2.956718702755248\n",
      "LOG_IKKin: 60.246361559688964\n",
      "LOG_boundc: 2.3561331602578606\n"
     ]
    }
   ],
   "source": [
    "# Assuming you have a list of parameter names\n",
    "parameter_names = [\"LOG_k_b\", \"LOG_k_f\", \"LOG_k_a\", \"LOG_k_4\", \"LOG_k_i1\", \"LOG_k_e1\", \"LOG_k_t2a\", \"LOG_k_t1a\", \"LOG_k_i2\", \"LOG_k_e2\", \"LOG_k_e2a\", \"LOG_c_4a\", \"LOG_c_5a\", \"LOG_c_1a\", \"LOG_k_a1a\", \"LOG_k_d1a\", \"LOG_c_3\", \"LOG_c_1\", \"LOG_k_ikk\", \"LOG_k_tnfr\", \"LOG_TNFRin\", \"LOG_IKKin\", \"LOG_boundc\"] # names of parameters in order from bngl file \n",
    "\n",
    "# Print the optimization result with parameter names\n",
    "print(\"Optimization result:\")\n",
    "print(bf)\n",
    "\n",
    "# Print the best-fit parameters with names\n",
    "print(\"\\nBest-fit parameters:\")\n",
    "for name, value in zip(parameter_names, best_fit_params):\n",
    "    print(f\"{name}: {value}\")\n"
   ]
  },
  {
   "cell_type": "code",
   "execution_count": 10,
   "metadata": {},
   "outputs": [
    {
     "data": {
      "image/png": "[encoded data removed]",
      "text/plain": [
       "<Figure size 640x480 with 1 Axes>"
      ]
     },
     "metadata": {},
     "output_type": "display_data"
    }
   ],
   "source": [
    "plot_fit(bf.x)"
   ]
  },
  {
   "cell_type": "code",
   "execution_count": 11,
   "metadata": {},
   "outputs": [
    {
     "name": "stdout",
     "output_type": "stream",
     "text": [
      "Optimization result:\n",
      "       message: Optimization terminated successfully.\n",
      "       success: True\n",
      "        status: 0\n",
      "           fun: 160896028.4122378\n",
      "             x: [ 1.430e-01 -1.940e+00 ...  6.025e+01  2.356e+00]\n",
      "           nit: 1832\n",
      "          nfev: 2741\n",
      " final_simplex: (array([[ 1.430e-01, -1.940e+00, ...,  6.025e+01,\n",
      "                         2.356e+00],\n",
      "                       [ 1.430e-01, -1.940e+00, ...,  6.025e+01,\n",
      "                         2.356e+00],\n",
      "                       ...,\n",
      "                       [ 1.430e-01, -1.940e+00, ...,  6.025e+01,\n",
      "                         2.356e+00],\n",
      "                       [ 1.430e-01, -1.940e+00, ...,  6.025e+01,\n",
      "                         2.356e+00]]), array([ 1.609e+08,  1.609e+08, ...,  1.609e+08,  1.609e+08]))\n",
      "\n",
      "Best-fit parameters:\n",
      "[  0.14295781  -1.9401116   -4.5165086  -12.8371119   -0.5090429\n",
      "   8.92915342  -0.56020805   0.93463465   0.34938086 -10.36352019\n",
      "  -0.63237969  -3.93291707  -3.37212112  -2.71222438  -5.40171841\n",
      " -17.06267867 -19.07787608  29.05690477  -4.54469341 -22.04873364\n",
      "  -2.9567187   60.24636156   2.35613316]\n",
      "\n",
      "Parameters that did not fit:\n",
      "['LOG_k_b', 'LOG_k_f', 'LOG_k_a', 'LOG_k_4', 'LOG_k_i1', 'LOG_k_e1', 'LOG_k_t2a', 'LOG_k_t1a', 'LOG_k_i2', 'LOG_k_e2', 'LOG_k_e2a', 'LOG_c_4a', 'LOG_c_5a', 'LOG_c_1a', 'LOG_k_a1a', 'LOG_k_d1a', 'LOG_c_3', 'LOG_c_1', 'LOG_k_ikk', 'LOG_k_tnfr', 'LOG_TNFRin', 'LOG_IKKin', 'LOG_boundc']\n"
     ]
    }
   ],
   "source": [
    "from scipy.optimize import minimize\n",
    "\n",
    "# Define the chi-square function\n",
    "chisq = lambda p: -model.log_likelihood(p)\n",
    "\n",
    "# Initial guess for parameters\n",
    "x0 = [0.0352, -3.0688, -4.5164, -7.4173, -2.057, -5.9334, -8, -7.3178, -4.1089, -10.6289, -3.5859, -4.6363, -4.6, -3.2082, -7, -8, -20, -20, -20, -20, 2.5258, 4.7454, 6.5546]\n",
    "parameter_names = [\"LOG_k_b\", \"LOG_k_f\", \"LOG_k_a\", \"LOG_k_4\", \"LOG_k_i1\", \"LOG_k_e1\", \"LOG_k_t2a\", \"LOG_k_t1a\", \"LOG_k_i2\", \"LOG_k_e2\", \"LOG_k_e2a\", \"LOG_c_4a\", \"LOG_c_5a\", \"LOG_c_1a\", \"LOG_k_a1a\", \"LOG_k_d1a\", \"LOG_c_3\", \"LOG_c_1\", \"LOG_k_ikk\", \"LOG_k_tnfr\", \"LOG_TNFRin\", \"LOG_IKKin\", \"LOG_boundc\"] # names of parameters in order from bngl file \n",
    "\n",
    "# Perform the minimization\n",
    "bf = minimize(chisq, x0=x0, method='nelder-mead', options={'maxiter': 10000})\n",
    "\n",
    "# Print the optimization result\n",
    "print(\"Optimization result:\")\n",
    "print(bf)\n",
    "\n",
    "# Access the best-fit parameters\n",
    "best_fit_params = bf.x\n",
    "print(\"\\nBest-fit parameters:\")\n",
    "print(best_fit_params)\n",
    "\n",
    "# Identify parameters that did not fit\n",
    "parameters_not_fitting = [param for param, initial_guess, fitted_value in zip(parameter_names, x0, best_fit_params) if initial_guess != fitted_value]\n",
    "print(\"\\nParameters that did not fit:\")\n",
    "print(parameters_not_fitting)\n"
   ]
  },
  {
   "cell_type": "code",
   "execution_count": 12,
   "metadata": {},
   "outputs": [
    {
     "name": "stdout",
     "output_type": "stream",
     "text": [
      "The discrepancy of the sampling (i.e., sample quality): 0.0002\n"
     ]
    },
    {
     "ename": "ValueError",
     "evalue": "'l_bounds' and 'u_bounds' must be broadcastable and respect the sample dimension",
     "output_type": "error",
     "traceback": [
      "\u001b[0;31m---------------------------------------------------------------------------\u001b[0m",
      "\u001b[0;31mValueError\u001b[0m                                Traceback (most recent call last)",
      "File \u001b[0;32m~/anaconda3/envs/bayes/lib/python3.9/site-packages/scipy/stats/_qmc.py:2639\u001b[0m, in \u001b[0;36m_validate_bounds\u001b[0;34m(l_bounds, u_bounds, d)\u001b[0m\n\u001b[1;32m   2638\u001b[0m \u001b[38;5;28;01mtry\u001b[39;00m:\n\u001b[0;32m-> 2639\u001b[0m     lower \u001b[38;5;241m=\u001b[39m \u001b[43mnp\u001b[49m\u001b[38;5;241;43m.\u001b[39;49m\u001b[43mbroadcast_to\u001b[49m\u001b[43m(\u001b[49m\u001b[43ml_bounds\u001b[49m\u001b[43m,\u001b[49m\u001b[43m \u001b[49m\u001b[43md\u001b[49m\u001b[43m)\u001b[49m\n\u001b[1;32m   2640\u001b[0m     upper \u001b[38;5;241m=\u001b[39m np\u001b[38;5;241m.\u001b[39mbroadcast_to(u_bounds, d)\n",
      "File \u001b[0;32m~/anaconda3/envs/bayes/lib/python3.9/site-packages/numpy/lib/stride_tricks.py:413\u001b[0m, in \u001b[0;36mbroadcast_to\u001b[0;34m(array, shape, subok)\u001b[0m\n\u001b[1;32m    369\u001b[0m \u001b[38;5;250m\u001b[39m\u001b[38;5;124;03m\"\"\"Broadcast an array to a new shape.\u001b[39;00m\n\u001b[1;32m    370\u001b[0m \n\u001b[1;32m    371\u001b[0m \u001b[38;5;124;03mParameters\u001b[39;00m\n\u001b[0;32m   (...)\u001b[0m\n\u001b[1;32m    411\u001b[0m \u001b[38;5;124;03m       [1, 2, 3]])\u001b[39;00m\n\u001b[1;32m    412\u001b[0m \u001b[38;5;124;03m\"\"\"\u001b[39;00m\n\u001b[0;32m--> 413\u001b[0m \u001b[38;5;28;01mreturn\u001b[39;00m \u001b[43m_broadcast_to\u001b[49m\u001b[43m(\u001b[49m\u001b[43marray\u001b[49m\u001b[43m,\u001b[49m\u001b[43m \u001b[49m\u001b[43mshape\u001b[49m\u001b[43m,\u001b[49m\u001b[43m \u001b[49m\u001b[43msubok\u001b[49m\u001b[38;5;241;43m=\u001b[39;49m\u001b[43msubok\u001b[49m\u001b[43m,\u001b[49m\u001b[43m \u001b[49m\u001b[43mreadonly\u001b[49m\u001b[38;5;241;43m=\u001b[39;49m\u001b[38;5;28;43;01mTrue\u001b[39;49;00m\u001b[43m)\u001b[49m\n",
      "File \u001b[0;32m~/anaconda3/envs/bayes/lib/python3.9/site-packages/numpy/lib/stride_tricks.py:349\u001b[0m, in \u001b[0;36m_broadcast_to\u001b[0;34m(array, shape, subok, readonly)\u001b[0m\n\u001b[1;32m    348\u001b[0m extras \u001b[38;5;241m=\u001b[39m []\n\u001b[0;32m--> 349\u001b[0m it \u001b[38;5;241m=\u001b[39m \u001b[43mnp\u001b[49m\u001b[38;5;241;43m.\u001b[39;49m\u001b[43mnditer\u001b[49m\u001b[43m(\u001b[49m\n\u001b[1;32m    350\u001b[0m \u001b[43m    \u001b[49m\u001b[43m(\u001b[49m\u001b[43marray\u001b[49m\u001b[43m,\u001b[49m\u001b[43m)\u001b[49m\u001b[43m,\u001b[49m\u001b[43m \u001b[49m\u001b[43mflags\u001b[49m\u001b[38;5;241;43m=\u001b[39;49m\u001b[43m[\u001b[49m\u001b[38;5;124;43m'\u001b[39;49m\u001b[38;5;124;43mmulti_index\u001b[39;49m\u001b[38;5;124;43m'\u001b[39;49m\u001b[43m,\u001b[49m\u001b[43m \u001b[49m\u001b[38;5;124;43m'\u001b[39;49m\u001b[38;5;124;43mrefs_ok\u001b[39;49m\u001b[38;5;124;43m'\u001b[39;49m\u001b[43m,\u001b[49m\u001b[43m \u001b[49m\u001b[38;5;124;43m'\u001b[39;49m\u001b[38;5;124;43mzerosize_ok\u001b[39;49m\u001b[38;5;124;43m'\u001b[39;49m\u001b[43m]\u001b[49m\u001b[43m \u001b[49m\u001b[38;5;241;43m+\u001b[39;49m\u001b[43m \u001b[49m\u001b[43mextras\u001b[49m\u001b[43m,\u001b[49m\n\u001b[1;32m    351\u001b[0m \u001b[43m    \u001b[49m\u001b[43mop_flags\u001b[49m\u001b[38;5;241;43m=\u001b[39;49m\u001b[43m[\u001b[49m\u001b[38;5;124;43m'\u001b[39;49m\u001b[38;5;124;43mreadonly\u001b[39;49m\u001b[38;5;124;43m'\u001b[39;49m\u001b[43m]\u001b[49m\u001b[43m,\u001b[49m\u001b[43m \u001b[49m\u001b[43mitershape\u001b[49m\u001b[38;5;241;43m=\u001b[39;49m\u001b[43mshape\u001b[49m\u001b[43m,\u001b[49m\u001b[43m \u001b[49m\u001b[43morder\u001b[49m\u001b[38;5;241;43m=\u001b[39;49m\u001b[38;5;124;43m'\u001b[39;49m\u001b[38;5;124;43mC\u001b[39;49m\u001b[38;5;124;43m'\u001b[39;49m\u001b[43m)\u001b[49m\n\u001b[1;32m    352\u001b[0m \u001b[38;5;28;01mwith\u001b[39;00m it:\n\u001b[1;32m    353\u001b[0m     \u001b[38;5;66;03m# never really has writebackifcopy semantics\u001b[39;00m\n",
      "\u001b[0;31mValueError\u001b[0m: operands could not be broadcast together with remapped shapes [original->remapped]: (23,)  and requested shape (4,)",
      "\nThe above exception was the direct cause of the following exception:\n",
      "\u001b[0;31mValueError\u001b[0m                                Traceback (most recent call last)",
      "Cell \u001b[0;32mIn[12], line 6\u001b[0m\n\u001b[1;32m      4\u001b[0m sample \u001b[38;5;241m=\u001b[39m sampler\u001b[38;5;241m.\u001b[39mrandom(n\u001b[38;5;241m=\u001b[39mn_particles) \n\u001b[1;32m      5\u001b[0m \u001b[38;5;28mprint\u001b[39m(\u001b[38;5;124m\"\u001b[39m\u001b[38;5;124mThe discrepancy of the sampling (i.e., sample quality): \u001b[39m\u001b[38;5;132;01m%.4f\u001b[39;00m\u001b[38;5;124m\"\u001b[39m\u001b[38;5;241m%\u001b[39mqmc\u001b[38;5;241m.\u001b[39mdiscrepancy(sample)) \u001b[38;5;66;03m#discrepancy is distance between cont. uniform distr. on hypercube & discr. uniform distr. on n distinct sample points\u001b[39;00m\n\u001b[0;32m----> 6\u001b[0m prior_samples \u001b[38;5;241m=\u001b[39m \u001b[43mqmc\u001b[49m\u001b[38;5;241;43m.\u001b[39;49m\u001b[43mscale\u001b[49m\u001b[43m(\u001b[49m\u001b[43msample\u001b[49m\u001b[43m,\u001b[49m\u001b[43m \u001b[49m\u001b[43ml_bounds\u001b[49m\u001b[38;5;241;43m=\u001b[39;49m\u001b[43mmodel\u001b[49m\u001b[38;5;241;43m.\u001b[39;49m\u001b[43mlower_bnds\u001b[49m\u001b[43m,\u001b[49m\u001b[43m \u001b[49m\u001b[43mu_bounds\u001b[49m\u001b[38;5;241;43m=\u001b[39;49m\u001b[43mmodel\u001b[49m\u001b[38;5;241;43m.\u001b[39;49m\u001b[43mupper_bnds\u001b[49m\u001b[43m)\u001b[49m\n\u001b[1;32m      7\u001b[0m \u001b[38;5;28mprint\u001b[39m(prior_samples\u001b[38;5;241m.\u001b[39mshape)\n",
      "File \u001b[0;32m~/anaconda3/envs/bayes/lib/python3.9/site-packages/scipy/stats/_qmc.py:153\u001b[0m, in \u001b[0;36mscale\u001b[0;34m(sample, l_bounds, u_bounds, reverse)\u001b[0m\n\u001b[1;32m    150\u001b[0m \u001b[38;5;28;01mif\u001b[39;00m \u001b[38;5;129;01mnot\u001b[39;00m sample\u001b[38;5;241m.\u001b[39mndim \u001b[38;5;241m==\u001b[39m \u001b[38;5;241m2\u001b[39m:\n\u001b[1;32m    151\u001b[0m     \u001b[38;5;28;01mraise\u001b[39;00m \u001b[38;5;167;01mValueError\u001b[39;00m(\u001b[38;5;124m'\u001b[39m\u001b[38;5;124mSample is not a 2D array\u001b[39m\u001b[38;5;124m'\u001b[39m)\n\u001b[0;32m--> 153\u001b[0m lower, upper \u001b[38;5;241m=\u001b[39m \u001b[43m_validate_bounds\u001b[49m\u001b[43m(\u001b[49m\n\u001b[1;32m    154\u001b[0m \u001b[43m    \u001b[49m\u001b[43ml_bounds\u001b[49m\u001b[38;5;241;43m=\u001b[39;49m\u001b[43ml_bounds\u001b[49m\u001b[43m,\u001b[49m\u001b[43m \u001b[49m\u001b[43mu_bounds\u001b[49m\u001b[38;5;241;43m=\u001b[39;49m\u001b[43mu_bounds\u001b[49m\u001b[43m,\u001b[49m\u001b[43m \u001b[49m\u001b[43md\u001b[49m\u001b[38;5;241;43m=\u001b[39;49m\u001b[43msample\u001b[49m\u001b[38;5;241;43m.\u001b[39;49m\u001b[43mshape\u001b[49m\u001b[43m[\u001b[49m\u001b[38;5;241;43m1\u001b[39;49m\u001b[43m]\u001b[49m\n\u001b[1;32m    155\u001b[0m \u001b[43m\u001b[49m\u001b[43m)\u001b[49m\n\u001b[1;32m    157\u001b[0m \u001b[38;5;28;01mif\u001b[39;00m \u001b[38;5;129;01mnot\u001b[39;00m reverse:\n\u001b[1;32m    158\u001b[0m     \u001b[38;5;66;03m# Checking that sample is within the hypercube\u001b[39;00m\n\u001b[1;32m    159\u001b[0m     \u001b[38;5;28;01mif\u001b[39;00m (sample\u001b[38;5;241m.\u001b[39mmax() \u001b[38;5;241m>\u001b[39m \u001b[38;5;241m1.\u001b[39m) \u001b[38;5;129;01mor\u001b[39;00m (sample\u001b[38;5;241m.\u001b[39mmin() \u001b[38;5;241m<\u001b[39m \u001b[38;5;241m0.\u001b[39m):\n",
      "File \u001b[0;32m~/anaconda3/envs/bayes/lib/python3.9/site-packages/scipy/stats/_qmc.py:2644\u001b[0m, in \u001b[0;36m_validate_bounds\u001b[0;34m(l_bounds, u_bounds, d)\u001b[0m\n\u001b[1;32m   2641\u001b[0m \u001b[38;5;28;01mexcept\u001b[39;00m \u001b[38;5;167;01mValueError\u001b[39;00m \u001b[38;5;28;01mas\u001b[39;00m exc:\n\u001b[1;32m   2642\u001b[0m     msg \u001b[38;5;241m=\u001b[39m (\u001b[38;5;124m\"\u001b[39m\u001b[38;5;124m'\u001b[39m\u001b[38;5;124ml_bounds\u001b[39m\u001b[38;5;124m'\u001b[39m\u001b[38;5;124m and \u001b[39m\u001b[38;5;124m'\u001b[39m\u001b[38;5;124mu_bounds\u001b[39m\u001b[38;5;124m'\u001b[39m\u001b[38;5;124m must be broadcastable and respect\u001b[39m\u001b[38;5;124m\"\u001b[39m\n\u001b[1;32m   2643\u001b[0m            \u001b[38;5;124m\"\u001b[39m\u001b[38;5;124m the sample dimension\u001b[39m\u001b[38;5;124m\"\u001b[39m)\n\u001b[0;32m-> 2644\u001b[0m     \u001b[38;5;28;01mraise\u001b[39;00m \u001b[38;5;167;01mValueError\u001b[39;00m(msg) \u001b[38;5;28;01mfrom\u001b[39;00m \u001b[38;5;21;01mexc\u001b[39;00m\n\u001b[1;32m   2646\u001b[0m \u001b[38;5;28;01mif\u001b[39;00m \u001b[38;5;129;01mnot\u001b[39;00m np\u001b[38;5;241m.\u001b[39mall(lower \u001b[38;5;241m<\u001b[39m upper):\n\u001b[1;32m   2647\u001b[0m     \u001b[38;5;28;01mraise\u001b[39;00m \u001b[38;5;167;01mValueError\u001b[39;00m(\u001b[38;5;124m\"\u001b[39m\u001b[38;5;124mBounds are not consistent \u001b[39m\u001b[38;5;124m'\u001b[39m\u001b[38;5;124ml_bounds\u001b[39m\u001b[38;5;124m'\u001b[39m\u001b[38;5;124m < \u001b[39m\u001b[38;5;124m'\u001b[39m\u001b[38;5;124mu_bounds\u001b[39m\u001b[38;5;124m'\u001b[39m\u001b[38;5;124m\"\u001b[39m)\n",
      "\u001b[0;31mValueError\u001b[0m: 'l_bounds' and 'u_bounds' must be broadcastable and respect the sample dimension"
     ]
    }
   ],
   "source": [
    "n_particles = 1000\n",
    "# Initialise particles' positions using samples from the prior \n",
    "sampler = qmc.LatinHypercube(d=model.n_params, seed=SEED)\n",
    "sample = sampler.random(n=n_particles) \n",
    "print(\"The discrepancy of the sampling (i.e., sample quality): %.4f\"%qmc.discrepancy(sample)) #discrepancy is distance between cont. uniform distr. on hypercube & discr. uniform distr. on n distinct sample points\n",
    "prior_samples = qmc.scale(sample, l_bounds=model.lower_bnds, u_bounds=model.upper_bnds)\n",
    "print(prior_samples.shape)"
   ]
  },
  {
   "cell_type": "code",
   "execution_count": 18,
   "metadata": {},
   "outputs": [
    {
     "ename": "ValueError",
     "evalue": "Expected input to have dtype float, but got int64",
     "output_type": "error",
     "traceback": [
      "\u001b[0;31m---------------------------------------------------------------------------\u001b[0m",
      "\u001b[0;31mValueError\u001b[0m                                Traceback (most recent call last)",
      "Cell \u001b[0;32mIn[18], line 4\u001b[0m\n\u001b[1;32m      1\u001b[0m t0 \u001b[38;5;241m=\u001b[39m time\u001b[38;5;241m.\u001b[39mtime() \u001b[38;5;66;03m#stores current time, date, year, etc. in one float\u001b[39;00m\n\u001b[1;32m      2\u001b[0m \u001b[38;5;66;03m# with Pool(n_cpus) as pool: #sets up code to run over my n number of cpus on laptop\u001b[39;00m\n\u001b[0;32m----> 4\u001b[0m sampler \u001b[38;5;241m=\u001b[39m \u001b[43mpc\u001b[49m\u001b[38;5;241;43m.\u001b[39;49m\u001b[43mSampler\u001b[49m\u001b[43m(\u001b[49m\u001b[43mn_particles\u001b[49m\u001b[43m \u001b[49m\u001b[38;5;241;43m=\u001b[39;49m\u001b[43m \u001b[49m\u001b[43mn_particles\u001b[49m\u001b[43m,\u001b[49m\n\u001b[1;32m      5\u001b[0m \u001b[43m                \u001b[49m\u001b[43mn_dim\u001b[49m\u001b[43m \u001b[49m\u001b[38;5;241;43m=\u001b[39;49m\u001b[43m \u001b[49m\u001b[43mmodel\u001b[49m\u001b[38;5;241;43m.\u001b[39;49m\u001b[43mn_params\u001b[49m\u001b[43m,\u001b[49m\n\u001b[1;32m      6\u001b[0m \u001b[43m                \u001b[49m\u001b[43mlog_likelihood\u001b[49m\u001b[43m \u001b[49m\u001b[38;5;241;43m=\u001b[39;49m\u001b[43m \u001b[49m\u001b[43mmodel\u001b[49m\u001b[38;5;241;43m.\u001b[39;49m\u001b[43mlog_likelihood\u001b[49m\u001b[43m,\u001b[49m\n\u001b[1;32m      7\u001b[0m \u001b[43m                \u001b[49m\u001b[43mlog_prior\u001b[49m\u001b[43m \u001b[49m\u001b[38;5;241;43m=\u001b[39;49m\u001b[43m \u001b[49m\u001b[43mmodel\u001b[49m\u001b[38;5;241;43m.\u001b[39;49m\u001b[43mlog_prior\u001b[49m\u001b[43m,\u001b[49m\n\u001b[1;32m      8\u001b[0m \u001b[43m                \u001b[49m\u001b[43mbounds\u001b[49m\u001b[43m \u001b[49m\u001b[38;5;241;43m=\u001b[39;49m\u001b[43m \u001b[49m\u001b[43mnp\u001b[49m\u001b[38;5;241;43m.\u001b[39;49m\u001b[43marray\u001b[49m\u001b[43m(\u001b[49m\u001b[38;5;28;43mlist\u001b[39;49m\u001b[43m(\u001b[49m\u001b[38;5;28;43mzip\u001b[39;49m\u001b[43m(\u001b[49m\u001b[43mmodel\u001b[49m\u001b[38;5;241;43m.\u001b[39;49m\u001b[43mlower_bnds\u001b[49m\u001b[43m,\u001b[49m\u001b[43m \u001b[49m\u001b[43mmodel\u001b[49m\u001b[38;5;241;43m.\u001b[39;49m\u001b[43mupper_bnds\u001b[49m\u001b[43m)\u001b[49m\u001b[43m)\u001b[49m\u001b[43m)\u001b[49m\u001b[43m,\u001b[49m\n\u001b[1;32m      9\u001b[0m \u001b[43m                \u001b[49m\u001b[43mrandom_state\u001b[49m\u001b[38;5;241;43m=\u001b[39;49m\u001b[43mSEED\u001b[49m\u001b[43m,\u001b[49m\n\u001b[1;32m     10\u001b[0m \u001b[43m                \u001b[49m\u001b[43mvectorize_likelihood\u001b[49m\u001b[38;5;241;43m=\u001b[39;49m\u001b[38;5;28;43;01mFalse\u001b[39;49;00m\u001b[43m,\u001b[49m\n\u001b[1;32m     11\u001b[0m \u001b[43m                \u001b[49m\u001b[43mvectorize_prior\u001b[49m\u001b[38;5;241;43m=\u001b[39;49m\u001b[38;5;28;43;01mFalse\u001b[39;49;00m\u001b[43m,\u001b[49m\n\u001b[1;32m     12\u001b[0m \u001b[43m                \u001b[49m\u001b[43minfer_vectorization\u001b[49m\u001b[38;5;241;43m=\u001b[39;49m\u001b[38;5;28;43;01mFalse\u001b[39;49;00m\n\u001b[1;32m     13\u001b[0m \u001b[43m            \u001b[49m\u001b[43m)\u001b[49m \u001b[38;5;66;03m#stores all relevant info from # of parameters being fit (ndim) to the actual results\u001b[39;00m\n\u001b[1;32m     15\u001b[0m sampler\u001b[38;5;241m.\u001b[39mrun(prior_samples \u001b[38;5;241m=\u001b[39m prior_samples) \u001b[38;5;66;03m#starts with prior sample definied in latin hypercube sampling, and runs it\u001b[39;00m\n\u001b[1;32m     16\u001b[0m result \u001b[38;5;241m=\u001b[39m sampler\u001b[38;5;241m.\u001b[39mresults \u001b[38;5;66;03m#results of sampler.run on prior_samples\u001b[39;00m\n",
      "File \u001b[0;32m~/anaconda3/envs/bayes/lib/python3.9/site-packages/pocomc/sampler.py:211\u001b[0m, in \u001b[0;36mSampler.__init__\u001b[0;34m(self, n_particles, n_dim, log_likelihood, log_prior, bounds, periodic, reflective, transform, threshold, scale, rescale, diagonal, log_likelihood_args, log_likelihood_kwargs, log_prior_args, log_prior_kwargs, vectorize_likelihood, vectorize_prior, infer_vectorization, pool, parallelize_prior, flow_config, train_config, use_resampled, inflate_resampled, output_dir, output_label, random_state)\u001b[0m\n\u001b[1;32m    208\u001b[0m \u001b[38;5;28mself\u001b[39m\u001b[38;5;241m.\u001b[39muse_flow \u001b[38;5;241m=\u001b[39m \u001b[38;5;28;01mFalse\u001b[39;00m\n\u001b[1;32m    210\u001b[0m \u001b[38;5;66;03m# Scaler\u001b[39;00m\n\u001b[0;32m--> 211\u001b[0m \u001b[38;5;28mself\u001b[39m\u001b[38;5;241m.\u001b[39mscaler \u001b[38;5;241m=\u001b[39m \u001b[43mReparameterise\u001b[49m\u001b[43m(\u001b[49m\n\u001b[1;32m    212\u001b[0m \u001b[43m    \u001b[49m\u001b[43mn_dim\u001b[49m\u001b[38;5;241;43m=\u001b[39;49m\u001b[38;5;28;43mself\u001b[39;49m\u001b[38;5;241;43m.\u001b[39;49m\u001b[43mn_dim\u001b[49m\u001b[43m,\u001b[49m\n\u001b[1;32m    213\u001b[0m \u001b[43m    \u001b[49m\u001b[43mbounds\u001b[49m\u001b[38;5;241;43m=\u001b[39;49m\u001b[43mbounds\u001b[49m\u001b[43m,\u001b[49m\n\u001b[1;32m    214\u001b[0m \u001b[43m    \u001b[49m\u001b[43mperiodic\u001b[49m\u001b[38;5;241;43m=\u001b[39;49m\u001b[43mperiodic\u001b[49m\u001b[43m,\u001b[49m\n\u001b[1;32m    215\u001b[0m \u001b[43m    \u001b[49m\u001b[43mreflective\u001b[49m\u001b[38;5;241;43m=\u001b[39;49m\u001b[43mreflective\u001b[49m\u001b[43m,\u001b[49m\n\u001b[1;32m    216\u001b[0m \u001b[43m    \u001b[49m\u001b[43mtransform\u001b[49m\u001b[38;5;241;43m=\u001b[39;49m\u001b[43mtransform\u001b[49m\u001b[43m,\u001b[49m\n\u001b[1;32m    217\u001b[0m \u001b[43m    \u001b[49m\u001b[43mscale\u001b[49m\u001b[38;5;241;43m=\u001b[39;49m\u001b[43mscale\u001b[49m\u001b[43m,\u001b[49m\n\u001b[1;32m    218\u001b[0m \u001b[43m    \u001b[49m\u001b[43mdiagonal\u001b[49m\u001b[38;5;241;43m=\u001b[39;49m\u001b[43mdiagonal\u001b[49m\n\u001b[1;32m    219\u001b[0m \u001b[43m\u001b[49m\u001b[43m)\u001b[49m\n\u001b[1;32m    220\u001b[0m \u001b[38;5;28mself\u001b[39m\u001b[38;5;241m.\u001b[39mrescale \u001b[38;5;241m=\u001b[39m rescale\n\u001b[1;32m    222\u001b[0m \u001b[38;5;66;03m# MCMC parameters\u001b[39;00m\n",
      "File \u001b[0;32m~/anaconda3/envs/bayes/lib/python3.9/site-packages/pocomc/scaler.py:46\u001b[0m, in \u001b[0;36mReparameterise.__init__\u001b[0;34m(self, n_dim, bounds, periodic, reflective, transform, scale, diagonal)\u001b[0m\n\u001b[1;32m     44\u001b[0m \u001b[38;5;28;01melif\u001b[39;00m \u001b[38;5;28mlen\u001b[39m(bounds) \u001b[38;5;241m==\u001b[39m \u001b[38;5;241m2\u001b[39m \u001b[38;5;129;01mand\u001b[39;00m \u001b[38;5;129;01mnot\u001b[39;00m np\u001b[38;5;241m.\u001b[39mshape(bounds) \u001b[38;5;241m==\u001b[39m (\u001b[38;5;241m2\u001b[39m, \u001b[38;5;241m2\u001b[39m):\n\u001b[1;32m     45\u001b[0m     bounds \u001b[38;5;241m=\u001b[39m np\u001b[38;5;241m.\u001b[39mtile(np\u001b[38;5;241m.\u001b[39marray(bounds, dtype\u001b[38;5;241m=\u001b[39mnp\u001b[38;5;241m.\u001b[39mfloat32)\u001b[38;5;241m.\u001b[39mreshape(\u001b[38;5;241m2\u001b[39m, \u001b[38;5;241m1\u001b[39m), \u001b[38;5;28mself\u001b[39m\u001b[38;5;241m.\u001b[39mndim)\u001b[38;5;241m.\u001b[39mT\n\u001b[0;32m---> 46\u001b[0m \u001b[43massert_array_float\u001b[49m\u001b[43m(\u001b[49m\u001b[43mbounds\u001b[49m\u001b[43m)\u001b[49m\n\u001b[1;32m     48\u001b[0m \u001b[38;5;28mself\u001b[39m\u001b[38;5;241m.\u001b[39mlow \u001b[38;5;241m=\u001b[39m bounds\u001b[38;5;241m.\u001b[39mT[\u001b[38;5;241m0\u001b[39m]\n\u001b[1;32m     49\u001b[0m \u001b[38;5;28mself\u001b[39m\u001b[38;5;241m.\u001b[39mhigh \u001b[38;5;241m=\u001b[39m bounds\u001b[38;5;241m.\u001b[39mT[\u001b[38;5;241m1\u001b[39m]\n",
      "File \u001b[0;32m~/anaconda3/envs/bayes/lib/python3.9/site-packages/pocomc/input_validation.py:58\u001b[0m, in \u001b[0;36massert_array_float\u001b[0;34m(x)\u001b[0m\n\u001b[1;32m     56\u001b[0m \u001b[38;5;28;01mdef\u001b[39;00m \u001b[38;5;21massert_array_float\u001b[39m(x: np\u001b[38;5;241m.\u001b[39mndarray):\n\u001b[1;32m     57\u001b[0m     \u001b[38;5;28;01mif\u001b[39;00m \u001b[38;5;129;01mnot\u001b[39;00m np\u001b[38;5;241m.\u001b[39missubdtype(x\u001b[38;5;241m.\u001b[39mdtype, np\u001b[38;5;241m.\u001b[39mfloating):\n\u001b[0;32m---> 58\u001b[0m         \u001b[38;5;28;01mraise\u001b[39;00m \u001b[38;5;167;01mValueError\u001b[39;00m(\u001b[38;5;124mf\u001b[39m\u001b[38;5;124m\"\u001b[39m\u001b[38;5;124mExpected input to have dtype float, but got \u001b[39m\u001b[38;5;132;01m{\u001b[39;00mx\u001b[38;5;241m.\u001b[39mdtype\u001b[38;5;132;01m}\u001b[39;00m\u001b[38;5;124m\"\u001b[39m)\n",
      "\u001b[0;31mValueError\u001b[0m: Expected input to have dtype float, but got int64"
     ]
    }
   ],
   "source": [
    "t0 = time.time() #stores current time, date, year, etc. in one float\n",
    "# with Pool(n_cpus) as pool: #sets up code to run over my n number of cpus on laptop\n",
    "    \n",
    "sampler = pc.Sampler(n_particles = n_particles,\n",
    "                n_dim = model.n_params,\n",
    "                log_likelihood = model.log_likelihood,\n",
    "                log_prior = model.log_prior,\n",
    "                bounds = np.array(list(zip(model.lower_bnds, model.upper_bnds))),\n",
    "                random_state=SEED,\n",
    "                vectorize_likelihood=False,\n",
    "                vectorize_prior=False,\n",
    "                infer_vectorization=False\n",
    "            ) #stores all relevant info from # of parameters being fit (ndim) to the actual results\n",
    "\n",
    "sampler.run(prior_samples = prior_samples) #starts with prior sample definied in latin hypercube sampling, and runs it\n",
    "result = sampler.results #results of sampler.run on prior_samples\n",
    "\n",
    "with open('tester01_result.pkl', 'wb') as f: #open that file if exists, if not make that file\n",
    "    pickle.dump(result, f, protocol=pickle.HIGHEST_PROTOCOL) #saves result object (dictionary) to pickle file\n",
    "\n",
    "# we need to remove the librr simulator from the class in order to successfully save and load the class from a pkl file. \n",
    "#del model.rr\n",
    "with open('tester01_mod.pkl', 'wb') as f: #open that file if exists, if not make that file\n",
    "    pickle.dump(model.__dict__, f, protocol=pickle.HIGHEST_PROTOCOL) #saves model dictionary in pickle file\n",
    "\n",
    "t1 = time.time() #time after running this section\n",
    "seconds = t1-t0 #difference in start and stop time\n",
    "\n",
    "elapsed = time.strftime(\"%H:%M:%S\", time.gmtime(seconds)) #converts float to a time quantity we use\n",
    "print('\\nElapsed time: ', elapsed) #printing time it took for code to run"
   ]
  },
  {
   "cell_type": "code",
   "execution_count": 26,
   "metadata": {},
   "outputs": [
    {
     "ename": "NameError",
     "evalue": "name 'result' is not defined",
     "output_type": "error",
     "traceback": [
      "\u001b[0;31m---------------------------------------------------------------------------\u001b[0m",
      "\u001b[0;31mNameError\u001b[0m                                 Traceback (most recent call last)",
      "Cell \u001b[0;32mIn[26], line 1\u001b[0m\n\u001b[0;32m----> 1\u001b[0m pc\u001b[38;5;241m.\u001b[39mplotting\u001b[38;5;241m.\u001b[39mtrace(\u001b[43mresult\u001b[49m, labels\u001b[38;5;241m=\u001b[39mmodel\u001b[38;5;241m.\u001b[39mparams)\n",
      "\u001b[0;31mNameError\u001b[0m: name 'result' is not defined"
     ]
    }
   ],
   "source": [
    "pc.plotting.trace(result, labels=model.params);"
   ]
  },
  {
   "cell_type": "code",
   "execution_count": null,
   "metadata": {},
   "outputs": [],
   "source": []
  }
 ],
 "metadata": {
  "kernelspec": {
   "display_name": "base",
   "language": "python",
   "name": "python3"
  },
  "language_info": {
   "codemirror_mode": {
    "name": "ipython",
    "version": 3
   },
   "file_extension": ".py",
   "mimetype": "text/x-python",
   "name": "python",
   "nbconvert_exporter": "python",
   "pygments_lexer": "ipython3",
   "version": "3.9.18"
  }
 },
 "nbformat": 4,
 "nbformat_minor": 2
}
