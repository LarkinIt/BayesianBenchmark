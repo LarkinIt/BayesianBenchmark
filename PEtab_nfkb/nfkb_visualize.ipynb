{
 "cells": [
  {
   "cell_type": "code",
   "execution_count": 1,
   "metadata": {},
   "outputs": [],
   "source": [
    "from petab.visualize import plot_data_and_simulation\n",
    "import matplotlib.pyplot as plt"
   ]
  },
  {
   "cell_type": "markdown",
   "metadata": {},
   "source": [
    "## PEtab to create model visualizations"
   ]
  },
  {
   "cell_type": "markdown",
   "metadata": {},
   "source": [
    "Define the data specifications"
   ]
  },
  {
   "cell_type": "code",
   "execution_count": null,
   "metadata": {},
   "outputs": [],
   "source": [
    "folder = \"PEtab_nfkb\"\n",
    "\n",
    "data_file_path = folder + \"measurementData.tsv\"\n",
    "condition_file_path = folder + \"experimental_conditions.tsv\"\n",
    "visualization_file_path = folder + \"visualization_specifications.tsv\"\n"
   ]
  },
  {
   "cell_type": "code",
   "execution_count": null,
   "metadata": {},
   "outputs": [],
   "source": [
    "folder = \"example_Isensee/\"\n",
    "\n",
    "data_file_path = folder + \"Isensee_measurementData.tsv\"\n",
    "condition_file_path = folder + \"Isensee_experimentalCondition.tsv\"\n",
    "visualization_file_path = folder + \"Isensee_visualizationSpecification.tsv\"\n",
    "simulation_file_path = folder + \"Isensee_simulationData.tsv\"\n",
    "\n",
    "# function to call, to plot data and simulations\n",
    "ax = plot_data_and_simulation(data_file_path,\n",
    "                              condition_file_path,\n",
    "                              visualization_file_path,\n",
    "                              simulation_file_path)\n",
    "plt.show()"
   ]
  }
 ],
 "metadata": {
  "kernelspec": {
   "display_name": "params",
   "language": "python",
   "name": "python3"
  },
  "language_info": {
   "codemirror_mode": {
    "name": "ipython",
    "version": 3
   },
   "file_extension": ".py",
   "mimetype": "text/x-python",
   "name": "python",
   "nbconvert_exporter": "python",
   "pygments_lexer": "ipython3",
   "version": "3.12.4"
  }
 },
 "nbformat": 4,
 "nbformat_minor": 2
}
